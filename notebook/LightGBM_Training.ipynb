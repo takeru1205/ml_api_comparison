{
  "nbformat": 4,
  "nbformat_minor": 0,
  "metadata": {
    "colab": {
      "provenance": []
    },
    "kernelspec": {
      "name": "python3",
      "display_name": "Python 3"
    },
    "language_info": {
      "name": "python"
    }
  },
  "cells": [
    {
      "cell_type": "markdown",
      "source": [
        "# Training LightGBM Models\n",
        "\n",
        "Training LightGBM binary classification models.  \n",
        "To train LightGBM normaly and exporting onnx model."
      ],
      "metadata": {
        "id": "-BQefYfc5Vvp"
      }
    },
    {
      "cell_type": "code",
      "execution_count": 1,
      "metadata": {
        "colab": {
          "base_uri": "https://localhost:8080/"
        },
        "id": "GrCScDD34TgB",
        "outputId": "694da742-0d4f-4360-ed78-1050fe5d8978"
      },
      "outputs": [
        {
          "output_type": "stream",
          "name": "stdout",
          "text": [
            "Archive:  titanic.zip\n",
            "replace gender_submission.csv? [y]es, [n]o, [A]ll, [N]one, [r]ename: A\n",
            "  inflating: gender_submission.csv   \n",
            "  inflating: test.csv                \n",
            "  inflating: train.csv               \n"
          ]
        }
      ],
      "source": [
        "# Download titanic.zip from https://www.kaggle.com/competitions/titanic\n",
        "!unzip titanic.zip"
      ]
    },
    {
      "cell_type": "code",
      "source": [
        "import polars as pl\n",
        "import lightgbm as lgb\n",
        "import numpy as np\n",
        "from pathlib import Path\n",
        "from sklearn.metrics import f1_score\n",
        "from sklearn.model_selection import train_test_split"
      ],
      "metadata": {
        "id": "zYhdSTMI5Ngg"
      },
      "execution_count": 2,
      "outputs": []
    },
    {
      "cell_type": "code",
      "source": [
        "SEED = 42\n",
        "USE_COLUMNS = [\"Pclass\", \"Sex\", \"Age\", \"SibSp\", \"Parch\", \"Fare\"]\n",
        "CATEGORICAL_COLUMNS = [\"Pclass\", \"Sex\"]\n",
        "\n",
        "MODEL_DIR = Path(\"models\")\n",
        "MODEL_DIR.mkdir(exist_ok=True)"
      ],
      "metadata": {
        "id": "sO_eA16u6NVO"
      },
      "execution_count": 3,
      "outputs": []
    },
    {
      "cell_type": "code",
      "source": [
        "train_raw = pl.read_csv(\"train.csv\").select(USE_COLUMNS + [\"Survived\"])\n",
        "test_raw = pl.read_csv(\"test.csv\").select(USE_COLUMNS)"
      ],
      "metadata": {
        "id": "jQyB1uYD5PIj"
      },
      "execution_count": 4,
      "outputs": []
    },
    {
      "cell_type": "code",
      "source": [
        "train_raw.head()"
      ],
      "metadata": {
        "colab": {
          "base_uri": "https://localhost:8080/",
          "height": 255
        },
        "id": "4zNp-o_252Hj",
        "outputId": "657f89e9-17dd-4832-9482-a8707e579cea"
      },
      "execution_count": 5,
      "outputs": [
        {
          "output_type": "execute_result",
          "data": {
            "text/plain": [
              "shape: (5, 7)\n",
              "┌────────┬────────┬──────┬───────┬───────┬─────────┬──────────┐\n",
              "│ Pclass ┆ Sex    ┆ Age  ┆ SibSp ┆ Parch ┆ Fare    ┆ Survived │\n",
              "│ ---    ┆ ---    ┆ ---  ┆ ---   ┆ ---   ┆ ---     ┆ ---      │\n",
              "│ i64    ┆ str    ┆ f64  ┆ i64   ┆ i64   ┆ f64     ┆ i64      │\n",
              "╞════════╪════════╪══════╪═══════╪═══════╪═════════╪══════════╡\n",
              "│ 3      ┆ male   ┆ 22.0 ┆ 1     ┆ 0     ┆ 7.25    ┆ 0        │\n",
              "│ 1      ┆ female ┆ 38.0 ┆ 1     ┆ 0     ┆ 71.2833 ┆ 1        │\n",
              "│ 3      ┆ female ┆ 26.0 ┆ 0     ┆ 0     ┆ 7.925   ┆ 1        │\n",
              "│ 1      ┆ female ┆ 35.0 ┆ 1     ┆ 0     ┆ 53.1    ┆ 1        │\n",
              "│ 3      ┆ male   ┆ 35.0 ┆ 0     ┆ 0     ┆ 8.05    ┆ 0        │\n",
              "└────────┴────────┴──────┴───────┴───────┴─────────┴──────────┘"
            ],
            "text/html": [
              "<div><style>\n",
              ".dataframe > thead > tr,\n",
              ".dataframe > tbody > tr {\n",
              "  text-align: right;\n",
              "  white-space: pre-wrap;\n",
              "}\n",
              "</style>\n",
              "<small>shape: (5, 7)</small><table border=\"1\" class=\"dataframe\"><thead><tr><th>Pclass</th><th>Sex</th><th>Age</th><th>SibSp</th><th>Parch</th><th>Fare</th><th>Survived</th></tr><tr><td>i64</td><td>str</td><td>f64</td><td>i64</td><td>i64</td><td>f64</td><td>i64</td></tr></thead><tbody><tr><td>3</td><td>&quot;male&quot;</td><td>22.0</td><td>1</td><td>0</td><td>7.25</td><td>0</td></tr><tr><td>1</td><td>&quot;female&quot;</td><td>38.0</td><td>1</td><td>0</td><td>71.2833</td><td>1</td></tr><tr><td>3</td><td>&quot;female&quot;</td><td>26.0</td><td>0</td><td>0</td><td>7.925</td><td>1</td></tr><tr><td>1</td><td>&quot;female&quot;</td><td>35.0</td><td>1</td><td>0</td><td>53.1</td><td>1</td></tr><tr><td>3</td><td>&quot;male&quot;</td><td>35.0</td><td>0</td><td>0</td><td>8.05</td><td>0</td></tr></tbody></table></div>"
            ]
          },
          "metadata": {},
          "execution_count": 5
        }
      ]
    },
    {
      "cell_type": "code",
      "source": [
        "test_raw.head()"
      ],
      "metadata": {
        "colab": {
          "base_uri": "https://localhost:8080/",
          "height": 255
        },
        "id": "RmoiFxfV59kC",
        "outputId": "e16e58c4-cbb4-4f75-a201-e544d1db3a68"
      },
      "execution_count": 6,
      "outputs": [
        {
          "output_type": "execute_result",
          "data": {
            "text/plain": [
              "shape: (5, 6)\n",
              "┌────────┬────────┬──────┬───────┬───────┬─────────┐\n",
              "│ Pclass ┆ Sex    ┆ Age  ┆ SibSp ┆ Parch ┆ Fare    │\n",
              "│ ---    ┆ ---    ┆ ---  ┆ ---   ┆ ---   ┆ ---     │\n",
              "│ i64    ┆ str    ┆ f64  ┆ i64   ┆ i64   ┆ f64     │\n",
              "╞════════╪════════╪══════╪═══════╪═══════╪═════════╡\n",
              "│ 3      ┆ male   ┆ 34.5 ┆ 0     ┆ 0     ┆ 7.8292  │\n",
              "│ 3      ┆ female ┆ 47.0 ┆ 1     ┆ 0     ┆ 7.0     │\n",
              "│ 2      ┆ male   ┆ 62.0 ┆ 0     ┆ 0     ┆ 9.6875  │\n",
              "│ 3      ┆ male   ┆ 27.0 ┆ 0     ┆ 0     ┆ 8.6625  │\n",
              "│ 3      ┆ female ┆ 22.0 ┆ 1     ┆ 1     ┆ 12.2875 │\n",
              "└────────┴────────┴──────┴───────┴───────┴─────────┘"
            ],
            "text/html": [
              "<div><style>\n",
              ".dataframe > thead > tr,\n",
              ".dataframe > tbody > tr {\n",
              "  text-align: right;\n",
              "  white-space: pre-wrap;\n",
              "}\n",
              "</style>\n",
              "<small>shape: (5, 6)</small><table border=\"1\" class=\"dataframe\"><thead><tr><th>Pclass</th><th>Sex</th><th>Age</th><th>SibSp</th><th>Parch</th><th>Fare</th></tr><tr><td>i64</td><td>str</td><td>f64</td><td>i64</td><td>i64</td><td>f64</td></tr></thead><tbody><tr><td>3</td><td>&quot;male&quot;</td><td>34.5</td><td>0</td><td>0</td><td>7.8292</td></tr><tr><td>3</td><td>&quot;female&quot;</td><td>47.0</td><td>1</td><td>0</td><td>7.0</td></tr><tr><td>2</td><td>&quot;male&quot;</td><td>62.0</td><td>0</td><td>0</td><td>9.6875</td></tr><tr><td>3</td><td>&quot;male&quot;</td><td>27.0</td><td>0</td><td>0</td><td>8.6625</td></tr><tr><td>3</td><td>&quot;female&quot;</td><td>22.0</td><td>1</td><td>1</td><td>12.2875</td></tr></tbody></table></div>"
            ]
          },
          "metadata": {},
          "execution_count": 6
        }
      ]
    },
    {
      "cell_type": "markdown",
      "source": [
        "## Preprocess\n",
        "\n",
        "Encoding string categorical feature(`Sex` column) to labels.\n",
        "\n",
        "- `female` : 0\n",
        "- `male` : 1"
      ],
      "metadata": {
        "id": "71rOqzmcaoRv"
      }
    },
    {
      "cell_type": "code",
      "source": [
        "train_raw[\"Sex\"].unique()"
      ],
      "metadata": {
        "colab": {
          "base_uri": "https://localhost:8080/",
          "height": 161
        },
        "id": "j7fIfVT2Aktt",
        "outputId": "8b1bd8a3-cecc-4928-f8e5-6d72d999991e"
      },
      "execution_count": 7,
      "outputs": [
        {
          "output_type": "execute_result",
          "data": {
            "text/plain": [
              "shape: (2,)\n",
              "Series: 'Sex' [str]\n",
              "[\n",
              "\t\"female\"\n",
              "\t\"male\"\n",
              "]"
            ],
            "text/html": [
              "<div><style>\n",
              ".dataframe > thead > tr,\n",
              ".dataframe > tbody > tr {\n",
              "  text-align: right;\n",
              "  white-space: pre-wrap;\n",
              "}\n",
              "</style>\n",
              "<small>shape: (2,)</small><table border=\"1\" class=\"dataframe\"><thead><tr><th>Sex</th></tr><tr><td>str</td></tr></thead><tbody><tr><td>&quot;female&quot;</td></tr><tr><td>&quot;male&quot;</td></tr></tbody></table></div>"
            ]
          },
          "metadata": {},
          "execution_count": 7
        }
      ]
    },
    {
      "cell_type": "code",
      "source": [
        "sex_label_mapping = {\n",
        "    \"female\": 0,\n",
        "    \"male\": 1,\n",
        "}"
      ],
      "metadata": {
        "id": "fsfCVqQOEH50"
      },
      "execution_count": 8,
      "outputs": []
    },
    {
      "cell_type": "code",
      "source": [
        "train_numeric = train_raw.with_columns(\n",
        "    pl.col(\"Sex\").replace_strict(sex_label_mapping).alias(\"Sex\")\n",
        ")"
      ],
      "metadata": {
        "id": "7m7kkHsgEO5E"
      },
      "execution_count": 9,
      "outputs": []
    },
    {
      "cell_type": "markdown",
      "source": [
        "splitting training dataset for validation."
      ],
      "metadata": {
        "id": "qvHoYrvNbENj"
      }
    },
    {
      "cell_type": "code",
      "source": [
        "train, valid = train_test_split(train_numeric, test_size=0.3, random_state=42)\n",
        "print(f\"train size: {train.shape}\")\n",
        "print(f\"valid size: {valid.shape}\")"
      ],
      "metadata": {
        "colab": {
          "base_uri": "https://localhost:8080/"
        },
        "id": "8UpRRo-K5-Mr",
        "outputId": "293d8a5c-9c08-4ba5-cc98-444554e6862d"
      },
      "execution_count": 10,
      "outputs": [
        {
          "output_type": "stream",
          "name": "stdout",
          "text": [
            "train size: (623, 7)\n",
            "valid size: (268, 7)\n"
          ]
        }
      ]
    },
    {
      "cell_type": "code",
      "source": [
        "y_valid = valid[\"Survived\"].to_numpy()\n",
        "X_valid = valid.select(pl.exclude(\"Survived\"))\n",
        "y_train = train[\"Survived\"].to_numpy()\n",
        "X_train = train.select(pl.exclude(\"Survived\"))"
      ],
      "metadata": {
        "id": "_E0xiL126e6A"
      },
      "execution_count": 11,
      "outputs": []
    },
    {
      "cell_type": "code",
      "source": [
        "X_train"
      ],
      "metadata": {
        "colab": {
          "base_uri": "https://localhost:8080/",
          "height": 443
        },
        "id": "pHpxQqT26wTA",
        "outputId": "c4205ef2-4f6a-4204-f88c-82622ec931bb"
      },
      "execution_count": 12,
      "outputs": [
        {
          "output_type": "execute_result",
          "data": {
            "text/plain": [
              "shape: (623, 6)\n",
              "┌────────┬─────┬──────┬───────┬───────┬─────────┐\n",
              "│ Pclass ┆ Sex ┆ Age  ┆ SibSp ┆ Parch ┆ Fare    │\n",
              "│ ---    ┆ --- ┆ ---  ┆ ---   ┆ ---   ┆ ---     │\n",
              "│ i64    ┆ i64 ┆ f64  ┆ i64   ┆ i64   ┆ f64     │\n",
              "╞════════╪═════╪══════╪═══════╪═══════╪═════════╡\n",
              "│ 1      ┆ 1   ┆ 4.0  ┆ 0     ┆ 2     ┆ 81.8583 │\n",
              "│ 3      ┆ 1   ┆ null ┆ 0     ┆ 0     ┆ 7.8958  │\n",
              "│ 3      ┆ 0   ┆ 1.0  ┆ 1     ┆ 1     ┆ 11.1333 │\n",
              "│ 2      ┆ 1   ┆ 36.0 ┆ 1     ┆ 2     ┆ 27.75   │\n",
              "│ 2      ┆ 1   ┆ 43.0 ┆ 1     ┆ 1     ┆ 26.25   │\n",
              "│ …      ┆ …   ┆ …    ┆ …     ┆ …     ┆ …       │\n",
              "│ 3      ┆ 0   ┆ 21.0 ┆ 0     ┆ 0     ┆ 7.65    │\n",
              "│ 1      ┆ 1   ┆ null ┆ 0     ┆ 0     ┆ 31.0    │\n",
              "│ 3      ┆ 1   ┆ 41.0 ┆ 2     ┆ 0     ┆ 14.1083 │\n",
              "│ 1      ┆ 0   ┆ 14.0 ┆ 1     ┆ 2     ┆ 120.0   │\n",
              "│ 1      ┆ 1   ┆ 21.0 ┆ 0     ┆ 1     ┆ 77.2875 │\n",
              "└────────┴─────┴──────┴───────┴───────┴─────────┘"
            ],
            "text/html": [
              "<div><style>\n",
              ".dataframe > thead > tr,\n",
              ".dataframe > tbody > tr {\n",
              "  text-align: right;\n",
              "  white-space: pre-wrap;\n",
              "}\n",
              "</style>\n",
              "<small>shape: (623, 6)</small><table border=\"1\" class=\"dataframe\"><thead><tr><th>Pclass</th><th>Sex</th><th>Age</th><th>SibSp</th><th>Parch</th><th>Fare</th></tr><tr><td>i64</td><td>i64</td><td>f64</td><td>i64</td><td>i64</td><td>f64</td></tr></thead><tbody><tr><td>1</td><td>1</td><td>4.0</td><td>0</td><td>2</td><td>81.8583</td></tr><tr><td>3</td><td>1</td><td>null</td><td>0</td><td>0</td><td>7.8958</td></tr><tr><td>3</td><td>0</td><td>1.0</td><td>1</td><td>1</td><td>11.1333</td></tr><tr><td>2</td><td>1</td><td>36.0</td><td>1</td><td>2</td><td>27.75</td></tr><tr><td>2</td><td>1</td><td>43.0</td><td>1</td><td>1</td><td>26.25</td></tr><tr><td>&hellip;</td><td>&hellip;</td><td>&hellip;</td><td>&hellip;</td><td>&hellip;</td><td>&hellip;</td></tr><tr><td>3</td><td>0</td><td>21.0</td><td>0</td><td>0</td><td>7.65</td></tr><tr><td>1</td><td>1</td><td>null</td><td>0</td><td>0</td><td>31.0</td></tr><tr><td>3</td><td>1</td><td>41.0</td><td>2</td><td>0</td><td>14.1083</td></tr><tr><td>1</td><td>0</td><td>14.0</td><td>1</td><td>2</td><td>120.0</td></tr><tr><td>1</td><td>1</td><td>21.0</td><td>0</td><td>1</td><td>77.2875</td></tr></tbody></table></div>"
            ]
          },
          "metadata": {},
          "execution_count": 12
        }
      ]
    },
    {
      "cell_type": "code",
      "source": [
        "# Construct as LightGBM Dataset\n",
        "lgb_train = lgb.Dataset(\n",
        "    X_train.to_numpy(),\n",
        "    y_train,\n",
        "    feature_name=USE_COLUMNS,\n",
        ")\n",
        "lgb_valid = lgb.Dataset(\n",
        "    X_valid,\n",
        "    y_valid,\n",
        "    reference=lgb_train,\n",
        ")"
      ],
      "metadata": {
        "id": "6DHCewF399cb"
      },
      "execution_count": 13,
      "outputs": []
    },
    {
      "cell_type": "code",
      "source": [
        "# custom metric to calc f1-score\n",
        "def f1(preds: np.ndarray, data: lgb.Dataset, threshold: float=0.5):\n",
        "    label = data.get_label()\n",
        "    pred_label = (preds > threshold).astype(int)\n",
        "    score = f1_score(pred_label, label, average='macro')\n",
        "    return 'f1', score, True"
      ],
      "metadata": {
        "id": "meJUljBpFcB_"
      },
      "execution_count": 14,
      "outputs": []
    },
    {
      "cell_type": "code",
      "source": [
        "params = {\"num_leaves\": 5, \"metric\": [\"binary_logloss\", \"binary_error\"], \"verbose\": -1, \"objective\": \"binary\"}"
      ],
      "metadata": {
        "id": "dbt193aR-ftT"
      },
      "execution_count": 15,
      "outputs": []
    },
    {
      "cell_type": "code",
      "source": [
        "model = lgb.train(\n",
        "    params,\n",
        "    lgb_train,\n",
        "    num_boost_round=100,\n",
        "    valid_sets=[lgb_train, lgb_valid],\n",
        "    feval=f1,\n",
        "    callbacks=[lgb.log_evaluation(10)],\n",
        ")"
      ],
      "metadata": {
        "colab": {
          "base_uri": "https://localhost:8080/"
        },
        "id": "ncjzr2d7-iL0",
        "outputId": "aff9bbbc-69d6-473c-b6f3-3792721a37bc"
      },
      "execution_count": 16,
      "outputs": [
        {
          "output_type": "stream",
          "name": "stdout",
          "text": [
            "[10]\ttraining's binary_logloss: 0.463302\ttraining's binary_error: 0.194222\ttraining's f1: 0.764048\tvalid_1's binary_logloss: 0.485355\tvalid_1's binary_error: 0.227612\tvalid_1's f1: 0.741227\n",
            "[20]\ttraining's binary_logloss: 0.411401\ttraining's binary_error: 0.158909\ttraining's f1: 0.816517\tvalid_1's binary_logloss: 0.442972\tvalid_1's binary_error: 0.190299\tvalid_1's f1: 0.79057\n",
            "[30]\ttraining's binary_logloss: 0.388313\ttraining's binary_error: 0.149278\ttraining's f1: 0.829894\tvalid_1's binary_logloss: 0.427774\tvalid_1's binary_error: 0.19403\tvalid_1's f1: 0.789002\n",
            "[40]\ttraining's binary_logloss: 0.37342\ttraining's binary_error: 0.144462\ttraining's f1: 0.834742\tvalid_1's binary_logloss: 0.42289\tvalid_1's binary_error: 0.208955\tvalid_1's f1: 0.770604\n",
            "[50]\ttraining's binary_logloss: 0.362016\ttraining's binary_error: 0.141252\ttraining's f1: 0.838833\tvalid_1's binary_logloss: 0.42251\tvalid_1's binary_error: 0.19403\tvalid_1's f1: 0.789002\n",
            "[60]\ttraining's binary_logloss: 0.351851\ttraining's binary_error: 0.136437\ttraining's f1: 0.844922\tvalid_1's binary_logloss: 0.420455\tvalid_1's binary_error: 0.19403\tvalid_1's f1: 0.789956\n",
            "[70]\ttraining's binary_logloss: 0.342855\ttraining's binary_error: 0.125201\ttraining's f1: 0.857872\tvalid_1's binary_logloss: 0.421664\tvalid_1's binary_error: 0.190299\tvalid_1's f1: 0.794451\n",
            "[80]\ttraining's binary_logloss: 0.334757\ttraining's binary_error: 0.12199\ttraining's f1: 0.861517\tvalid_1's binary_logloss: 0.422896\tvalid_1's binary_error: 0.190299\tvalid_1's f1: 0.793532\n",
            "[90]\ttraining's binary_logloss: 0.32746\ttraining's binary_error: 0.117175\ttraining's f1: 0.86748\tvalid_1's binary_logloss: 0.424442\tvalid_1's binary_error: 0.190299\tvalid_1's f1: 0.793532\n",
            "[100]\ttraining's binary_logloss: 0.321637\ttraining's binary_error: 0.113965\ttraining's f1: 0.87111\tvalid_1's binary_logloss: 0.426383\tvalid_1's binary_error: 0.190299\tvalid_1's f1: 0.793532\n"
          ]
        }
      ]
    },
    {
      "cell_type": "code",
      "source": [
        "lgb.plot_importance(model)"
      ],
      "metadata": {
        "colab": {
          "base_uri": "https://localhost:8080/",
          "height": 489
        },
        "id": "X1JYjtoA_UxB",
        "outputId": "86fb230e-0f51-4bd4-a250-7dd4f8d79285"
      },
      "execution_count": 17,
      "outputs": [
        {
          "output_type": "execute_result",
          "data": {
            "text/plain": [
              "<Axes: title={'center': 'Feature importance'}, xlabel='Feature importance', ylabel='Features'>"
            ]
          },
          "metadata": {},
          "execution_count": 17
        },
        {
          "output_type": "display_data",
          "data": {
            "text/plain": [
              "<Figure size 640x480 with 1 Axes>"
            ],
            "image/png": "[encoded data removed]"
          },
          "metadata": {}
        }
      ]
    },
    {
      "cell_type": "code",
      "source": [
        "model.save_model(MODEL_DIR / \"titanic_lgb_model.txt\")"
      ],
      "metadata": {
        "colab": {
          "base_uri": "https://localhost:8080/"
        },
        "id": "SPlfsfU8IB26",
        "outputId": "a297aed9-5b91-459d-f58f-3173413adac3"
      },
      "execution_count": 18,
      "outputs": [
        {
          "output_type": "execute_result",
          "data": {
            "text/plain": [
              "<lightgbm.basic.Booster at 0x7e17215c5fd0>"
            ]
          },
          "metadata": {},
          "execution_count": 18
        }
      ]
    },
    {
      "cell_type": "markdown",
      "source": [
        "## LightGBM Model Export to ONNX\n",
        "\n",
        "refer to https://zenn.dev/potato_iidx/articles/528b3a4a4002f9"
      ],
      "metadata": {
        "id": "KL7C9D7GOPw7"
      }
    },
    {
      "cell_type": "code",
      "source": [
        "!pip install onnxmltools onnxruntime"
      ],
      "metadata": {
        "colab": {
          "base_uri": "https://localhost:8080/"
        },
        "id": "rm-QdydOJrGH",
        "outputId": "81cb951d-c080-47a1-dd8f-beea8002095f"
      },
      "execution_count": 19,
      "outputs": [
        {
          "output_type": "stream",
          "name": "stdout",
          "text": [
            "Collecting onnxmltools\n",
            "  Downloading onnxmltools-1.14.0-py2.py3-none-any.whl.metadata (8.1 kB)\n",
            "Collecting onnxruntime\n",
            "  Downloading onnxruntime-1.23.1-cp312-cp312-manylinux_2_27_x86_64.manylinux_2_28_x86_64.whl.metadata (5.0 kB)\n",
            "Requirement already satisfied: numpy in /usr/local/lib/python3.12/dist-packages (from onnxmltools) (2.0.2)\n",
            "Collecting onnx (from onnxmltools)\n",
            "  Downloading onnx-1.19.1-cp312-cp312-manylinux2014_x86_64.manylinux_2_17_x86_64.whl.metadata (7.0 kB)\n",
            "Collecting coloredlogs (from onnxruntime)\n",
            "  Downloading coloredlogs-15.0.1-py2.py3-none-any.whl.metadata (12 kB)\n",
            "Requirement already satisfied: flatbuffers in /usr/local/lib/python3.12/dist-packages (from onnxruntime) (25.9.23)\n",
            "Requirement already satisfied: packaging in /usr/local/lib/python3.12/dist-packages (from onnxruntime) (25.0)\n",
            "Requirement already satisfied: protobuf in /usr/local/lib/python3.12/dist-packages (from onnxruntime) (5.29.5)\n",
            "Requirement already satisfied: sympy in /usr/local/lib/python3.12/dist-packages (from onnxruntime) (1.13.3)\n",
            "Collecting humanfriendly>=9.1 (from coloredlogs->onnxruntime)\n",
            "  Downloading humanfriendly-10.0-py2.py3-none-any.whl.metadata (9.2 kB)\n",
            "Requirement already satisfied: typing_extensions>=4.7.1 in /usr/local/lib/python3.12/dist-packages (from onnx->onnxmltools) (4.15.0)\n",
            "Requirement already satisfied: ml_dtypes>=0.5.0 in /usr/local/lib/python3.12/dist-packages (from onnx->onnxmltools) (0.5.3)\n",
            "Requirement already satisfied: mpmath<1.4,>=1.1.0 in /usr/local/lib/python3.12/dist-packages (from sympy->onnxruntime) (1.3.0)\n",
            "Downloading onnxmltools-1.14.0-py2.py3-none-any.whl (352 kB)\n",
            "\u001b[2K   \u001b[90m━━━━━━━━━━━━━━━━━━━━━━━━━━━━━━━━━━━━━━━━\u001b[0m \u001b[32m352.5/352.5 kB\u001b[0m \u001b[31m8.0 MB/s\u001b[0m eta \u001b[36m0:00:00\u001b[0m\n",
            "\u001b[?25hDownloading onnxruntime-1.23.1-cp312-cp312-manylinux_2_27_x86_64.manylinux_2_28_x86_64.whl (17.4 MB)\n",
            "\u001b[2K   \u001b[90m━━━━━━━━━━━━━━━━━━━━━━━━━━━━━━━━━━━━━━━━\u001b[0m \u001b[32m17.4/17.4 MB\u001b[0m \u001b[31m95.5 MB/s\u001b[0m eta \u001b[36m0:00:00\u001b[0m\n",
            "\u001b[?25hDownloading coloredlogs-15.0.1-py2.py3-none-any.whl (46 kB)\n",
            "\u001b[2K   \u001b[90m━━━━━━━━━━━━━━━━━━━━━━━━━━━━━━━━━━━━━━━━\u001b[0m \u001b[32m46.0/46.0 kB\u001b[0m \u001b[31m3.2 MB/s\u001b[0m eta \u001b[36m0:00:00\u001b[0m\n",
            "\u001b[?25hDownloading onnx-1.19.1-cp312-cp312-manylinux2014_x86_64.manylinux_2_17_x86_64.whl (18.2 MB)\n",
            "\u001b[2K   \u001b[90m━━━━━━━━━━━━━━━━━━━━━━━━━━━━━━━━━━━━━━━━\u001b[0m \u001b[32m18.2/18.2 MB\u001b[0m \u001b[31m76.3 MB/s\u001b[0m eta \u001b[36m0:00:00\u001b[0m\n",
            "\u001b[?25hDownloading humanfriendly-10.0-py2.py3-none-any.whl (86 kB)\n",
            "\u001b[2K   \u001b[90m━━━━━━━━━━━━━━━━━━━━━━━━━━━━━━━━━━━━━━━━\u001b[0m \u001b[32m86.8/86.8 kB\u001b[0m \u001b[31m4.4 MB/s\u001b[0m eta \u001b[36m0:00:00\u001b[0m\n",
            "\u001b[?25hInstalling collected packages: humanfriendly, onnx, coloredlogs, onnxruntime, onnxmltools\n",
            "Successfully installed coloredlogs-15.0.1 humanfriendly-10.0 onnx-1.19.1 onnxmltools-1.14.0 onnxruntime-1.23.1\n"
          ]
        }
      ]
    },
    {
      "cell_type": "code",
      "source": [
        "import onnxmltools\n",
        "from onnxmltools.convert.common.data_types import FloatTensorType"
      ],
      "metadata": {
        "id": "Ydz7py3wLX6r"
      },
      "execution_count": 20,
      "outputs": []
    },
    {
      "cell_type": "code",
      "source": [
        "# Convert LightGBM model into onnx\n",
        "onnx_model = onnxmltools.convert_lightgbm(\n",
        "    model,\n",
        "    initial_types=[(\"inputs\", FloatTensorType([None, len(USE_COLUMNS)]))],\n",
        "    zipmap=False,  # set to False from onnxruntime issue-5292: https://github.com/microsoft/onnxruntime/issues/5292\n",
        ")"
      ],
      "metadata": {
        "id": "lE-gwYlELgXh"
      },
      "execution_count": 21,
      "outputs": []
    },
    {
      "cell_type": "code",
      "source": [
        "onnxmltools.utils.save_model(onnx_model, MODEL_DIR / \"titanic_lgb.onnx\")"
      ],
      "metadata": {
        "id": "86Z1QSBlNx1r"
      },
      "execution_count": 22,
      "outputs": []
    },
    {
      "cell_type": "markdown",
      "source": [
        "## Comparison between Original and ONNX outputs\n"
      ],
      "metadata": {
        "id": "IyURSmRXbsQs"
      }
    },
    {
      "cell_type": "code",
      "source": [
        "# preprocess\n",
        "test_numeric = test_raw.with_columns(\n",
        "    pl.col(\"Sex\").replace_strict(sex_label_mapping).alias(\"Sex\")\n",
        ")"
      ],
      "metadata": {
        "id": "KBq4PPYZcOO6"
      },
      "execution_count": 23,
      "outputs": []
    },
    {
      "cell_type": "code",
      "source": [
        "# For original model prediction\n",
        "lgb_pred_prob = model.predict(test_numeric.to_numpy())"
      ],
      "metadata": {
        "id": "aFWlgHYwQWen"
      },
      "execution_count": 24,
      "outputs": []
    },
    {
      "cell_type": "code",
      "source": [
        "# conver into 0/1 value\n",
        "lgb_predictions = (lgb_pred_prob > 0.5).astype(int)"
      ],
      "metadata": {
        "id": "ZfG3HhKNPWf9"
      },
      "execution_count": 25,
      "outputs": []
    },
    {
      "cell_type": "code",
      "source": [
        "lgb_predictions"
      ],
      "metadata": {
        "colab": {
          "base_uri": "https://localhost:8080/"
        },
        "id": "4FzrRgu-Pgb7",
        "outputId": "883bc6e9-d237-48c0-8fec-f3a85430761b"
      },
      "execution_count": 26,
      "outputs": [
        {
          "output_type": "execute_result",
          "data": {
            "text/plain": [
              "array([0, 0, 0, 0, 0, 0, 1, 0, 1, 0, 0, 0, 1, 0, 1, 1, 0, 0, 0, 0, 0, 0,\n",
              "       1, 0, 1, 0, 1, 0, 0, 0, 0, 0, 1, 0, 0, 0, 0, 0, 0, 0, 0, 0, 0, 1,\n",
              "       1, 0, 0, 0, 1, 1, 0, 0, 1, 1, 0, 0, 0, 0, 0, 1, 0, 0, 0, 1, 0, 1,\n",
              "       0, 0, 0, 1, 1, 0, 0, 0, 1, 1, 0, 1, 0, 1, 1, 0, 0, 0, 0, 0, 1, 0,\n",
              "       1, 1, 0, 0, 1, 0, 0, 0, 1, 0, 0, 0, 1, 0, 0, 0, 0, 0, 0, 0, 0, 0,\n",
              "       0, 1, 1, 1, 1, 0, 0, 1, 1, 1, 1, 0, 1, 0, 0, 1, 0, 0, 0, 0, 0, 0,\n",
              "       0, 0, 0, 0, 0, 0, 0, 0, 0, 1, 0, 0, 0, 0, 0, 0, 0, 0, 1, 0, 0, 0,\n",
              "       0, 0, 1, 0, 0, 1, 1, 1, 1, 0, 0, 0, 0, 0, 1, 0, 0, 0, 0, 0, 0, 1,\n",
              "       1, 0, 1, 1, 0, 0, 1, 0, 1, 0, 1, 0, 0, 0, 0, 0, 0, 0, 1, 0, 1, 0,\n",
              "       0, 0, 1, 1, 0, 1, 0, 0, 1, 0, 1, 0, 0, 0, 0, 1, 0, 0, 1, 0, 1, 0,\n",
              "       1, 0, 1, 0, 1, 0, 0, 1, 0, 0, 1, 1, 0, 0, 0, 0, 0, 0, 1, 1, 1, 1,\n",
              "       0, 0, 0, 0, 1, 0, 1, 1, 1, 0, 0, 0, 0, 0, 0, 0, 1, 0, 0, 0, 1, 1,\n",
              "       0, 0, 0, 0, 0, 0, 0, 0, 1, 1, 0, 1, 0, 0, 0, 0, 0, 1, 1, 0, 1, 0,\n",
              "       0, 0, 0, 0, 0, 0, 0, 0, 0, 0, 1, 0, 0, 0, 0, 0, 0, 0, 1, 1, 0, 1,\n",
              "       0, 0, 0, 0, 0, 1, 1, 1, 0, 0, 0, 0, 0, 0, 0, 0, 1, 0, 1, 0, 0, 0,\n",
              "       1, 0, 0, 1, 0, 0, 0, 0, 0, 0, 0, 0, 0, 1, 0, 1, 0, 1, 0, 1, 1, 0,\n",
              "       0, 0, 1, 0, 1, 0, 0, 0, 0, 1, 1, 0, 1, 0, 0, 0, 1, 0, 0, 1, 0, 0,\n",
              "       1, 1, 0, 0, 0, 0, 0, 0, 1, 0, 0, 1, 0, 0, 0, 0, 0, 1, 0, 0, 0, 1,\n",
              "       0, 1, 0, 0, 1, 0, 1, 0, 0, 0, 0, 0, 1, 1, 1, 1, 0, 0, 1, 0, 0, 0])"
            ]
          },
          "metadata": {},
          "execution_count": 26
        }
      ]
    },
    {
      "cell_type": "code",
      "source": [
        "import onnxruntime as rt"
      ],
      "metadata": {
        "id": "n0dQqY5nOJde"
      },
      "execution_count": 27,
      "outputs": []
    },
    {
      "cell_type": "code",
      "source": [
        "# For onnx model prediction\n",
        "sess = rt.InferenceSession(MODEL_DIR / \"titanic_lgb.onnx\")\n",
        "\n",
        "input_data = np.array(test_numeric, dtype=np.float32)\n",
        "input_name = sess.get_inputs()[0].name\n",
        "\n",
        "# Make predictions using the ONNX model\n",
        "output_name = sess.get_outputs()[0].name\n",
        "lgbm_onnx_predictions = sess.run([output_name], {input_name: input_data})[0]"
      ],
      "metadata": {
        "id": "YzWQ11y6O_yi"
      },
      "execution_count": 28,
      "outputs": []
    },
    {
      "cell_type": "code",
      "source": [
        "lgbm_onnx_predictions"
      ],
      "metadata": {
        "colab": {
          "base_uri": "https://localhost:8080/"
        },
        "id": "N2upmA6nPEFg",
        "outputId": "c9d3b77c-092b-42f6-a374-c698ba814279"
      },
      "execution_count": 29,
      "outputs": [
        {
          "output_type": "execute_result",
          "data": {
            "text/plain": [
              "array([0, 0, 0, 0, 0, 0, 1, 0, 1, 0, 0, 0, 1, 0, 1, 1, 0, 0, 0, 0, 0, 0,\n",
              "       1, 0, 1, 0, 1, 0, 0, 0, 0, 0, 1, 0, 0, 0, 0, 0, 0, 0, 0, 0, 0, 1,\n",
              "       1, 0, 0, 0, 1, 1, 0, 0, 1, 1, 0, 0, 0, 0, 0, 1, 0, 0, 0, 1, 0, 1,\n",
              "       0, 0, 0, 1, 1, 0, 0, 0, 1, 1, 0, 1, 0, 1, 1, 0, 0, 0, 0, 0, 1, 0,\n",
              "       1, 1, 0, 0, 1, 0, 0, 0, 1, 0, 0, 0, 1, 0, 0, 0, 0, 0, 0, 0, 0, 0,\n",
              "       0, 1, 1, 1, 1, 0, 0, 1, 1, 1, 1, 0, 1, 0, 0, 1, 0, 0, 0, 0, 0, 0,\n",
              "       0, 0, 0, 0, 0, 0, 0, 0, 0, 1, 0, 0, 0, 0, 0, 0, 0, 0, 1, 0, 0, 0,\n",
              "       0, 0, 1, 0, 0, 1, 1, 1, 1, 0, 0, 0, 0, 0, 1, 0, 0, 0, 0, 0, 0, 1,\n",
              "       1, 0, 1, 1, 0, 0, 1, 0, 1, 0, 1, 0, 0, 0, 0, 0, 0, 0, 1, 0, 1, 0,\n",
              "       0, 0, 1, 1, 0, 1, 0, 0, 1, 0, 1, 0, 0, 0, 0, 1, 0, 0, 1, 0, 1, 0,\n",
              "       1, 0, 1, 0, 1, 0, 0, 1, 0, 0, 1, 1, 0, 0, 0, 0, 0, 0, 1, 1, 1, 1,\n",
              "       0, 0, 0, 0, 1, 0, 1, 1, 1, 0, 0, 0, 0, 0, 0, 0, 1, 0, 0, 0, 1, 1,\n",
              "       0, 0, 0, 0, 0, 0, 0, 0, 1, 1, 0, 1, 0, 0, 0, 0, 0, 1, 1, 0, 1, 0,\n",
              "       0, 0, 0, 0, 0, 0, 0, 0, 0, 0, 1, 0, 0, 0, 0, 0, 0, 0, 1, 1, 0, 1,\n",
              "       0, 0, 0, 0, 0, 1, 1, 1, 0, 0, 0, 0, 0, 0, 0, 0, 1, 0, 1, 0, 0, 0,\n",
              "       1, 0, 0, 1, 0, 0, 0, 0, 0, 0, 0, 0, 0, 1, 0, 1, 0, 1, 0, 1, 1, 0,\n",
              "       0, 0, 1, 0, 1, 0, 0, 0, 0, 1, 1, 0, 1, 0, 0, 0, 1, 0, 0, 1, 0, 0,\n",
              "       1, 1, 0, 0, 0, 0, 0, 0, 1, 0, 0, 1, 0, 0, 0, 0, 0, 1, 0, 0, 0, 1,\n",
              "       0, 1, 0, 0, 1, 0, 1, 0, 0, 0, 0, 0, 1, 1, 1, 1, 0, 0, 1, 0, 0, 0],\n",
              "      dtype=int64)"
            ]
          },
          "metadata": {},
          "execution_count": 29
        }
      ]
    },
    {
      "cell_type": "code",
      "source": [
        "# if output `True` means all predicted values are exact same.\n",
        "np.array_equal(lgbm_onnx_predictions, lgb_predictions)"
      ],
      "metadata": {
        "colab": {
          "base_uri": "https://localhost:8080/"
        },
        "id": "ZLDrcgc9Q9jx",
        "outputId": "204ce514-472a-4cb6-ede7-93f42eca7b6b"
      },
      "execution_count": 30,
      "outputs": [
        {
          "output_type": "execute_result",
          "data": {
            "text/plain": [
              "True"
            ]
          },
          "metadata": {},
          "execution_count": 30
        }
      ]
    }
  ]
}